{
 "cells": [
  {
   "cell_type": "code",
   "execution_count": 59,
   "metadata": {},
   "outputs": [],
   "source": [
    "from scipy.integrate import odeint \n",
    "from scipy import array\n",
    "import matplotlib.pyplot as plt\n",
    "\n",
    "\n",
    "#Definimos el sistema de ecuaciones de VanDerPol, donde x es la posicion, y es la primera derivada de x\n",
    "#y dx_y es la derivada de y/segunda derivada de x\n",
    "def vectorfield(X,t):\n",
    "    x = X[0]\n",
    "    y = X[1]\n",
    "    dx = y\n",
    "    dx_y = b*(1 - x**2)*dx - x\n",
    "    return array([dx, dx_y])"
   ]
  },
  {
   "cell_type": "code",
   "execution_count": 60,
   "metadata": {},
   "outputs": [],
   "source": [
    "stoptime = 500.0\n",
    "numpoints = 2500\n",
    "\n",
    "#Creamos los valores del tiempo a utilizar\n",
    "t = [stoptime * float(i) / (numpoints - 1) for i in range(numpoints)]\n",
    "\n",
    "#Condiciones iniciales\n",
    "x0 = 1.0\n",
    "v0 = 0.0\n",
    "\n",
    "#Coeficiente de amortiguamiento\n",
    "b = 1\n",
    "\n",
    "#Resolvemos el sistema de ecuaciones\n",
    "x, y = odeint(vectorfield,(x0,v0),t).T\n",
    "\n",
    "with open('VanDerPol.dat', 'w') as f:\n",
    "    for t1, x1,y1 in zip(t, x, y):\n",
    "        print (t1, x1,y1 ,file=f)"
   ]
  },
  {
   "cell_type": "code",
   "execution_count": 63,
   "metadata": {},
   "outputs": [
    {
     "data": {
      "image/png": "[encoded data removed]",
      "text/plain": [
       "<matplotlib.figure.Figure at 0x2ae99b0a278>"
      ]
     },
     "metadata": {},
     "output_type": "display_data"
    }
   ],
   "source": [
    "from numpy import loadtxt\n",
    "from pylab import figure, plot, xlabel, grid, hold, legend, title, savefig, ylabel\n",
    "%matplotlib inline\n",
    "t, x, y = loadtxt('VanDerPol.dat', unpack=True, skiprows=685)\n",
    "\n",
    "figure(1, figsize=(6, 4.5))\n",
    "\n",
    "xlabel('x')\n",
    "ylabel('v')\n",
    "grid(True)\n",
    "lw = 1.5\n",
    "\n",
    "plot(x, y, 'navy', linewidth=lw)\n",
    "\n",
    "plt.xlim(-2.2,2.2)\n",
    "plt.ylim(-3,3)\n",
    "plt.axhline(0, color='black',linewidth=0.5)\n",
    "plt.axvline(0, color='black',linewidth=0.5)\n",
    "\n",
    "title('Retrato de Fase para el osiclador de Van Der Pol')\n",
    "savefig('Im1.png', dpi=100)"
   ]
  },
  {
   "cell_type": "code",
   "execution_count": null,
   "metadata": {},
   "outputs": [],
   "source": []
  }
 ],
 "metadata": {
  "kernelspec": {
   "display_name": "Python 3",
   "language": "python",
   "name": "python3"
  },
  "language_info": {
   "codemirror_mode": {
    "name": "ipython",
    "version": 3
   },
   "file_extension": ".py",
   "mimetype": "text/x-python",
   "name": "python",
   "nbconvert_exporter": "python",
   "pygments_lexer": "ipython3",
   "version": "3.6.3"
  }
 },
 "nbformat": 4,
 "nbformat_minor": 2
}
